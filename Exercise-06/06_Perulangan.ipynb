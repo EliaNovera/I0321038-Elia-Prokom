{
 "cells": [
  {
   "cell_type": "markdown",
   "metadata": {},
   "source": [
    "***\n",
    "<h1 align=\"center\">Exercise 06</h1>\n",
    " \n",
    "***\n",
    "## While Loop\n",
    "## Exercise 6.1\n",
    "isilah bagian rumpang berikut. xx diganti tanggal lahir dan yy diganti menjadi bulan lahir. tandanya menyesuaikan yang lebih besar."
   ]
  },
  {
   "cell_type": "code",
   "execution_count": 2,
   "metadata": {},
   "outputs": [
    {
     "name": "stdout",
     "output_type": "stream",
     "text": [
      "begitulah hidup, kalo ga di bawah, ya dibawah banget\n",
      "begitulah hidup, kalo ga di bawah, ya dibawah banget\n",
      "begitulah hidup, kalo ga di bawah, ya dibawah banget\n",
      "begitulah hidup, kalo ga di bawah, ya dibawah banget\n",
      "begitulah hidup, kalo ga di bawah, ya dibawah banget\n",
      "begitulah hidup, kalo ga di bawah, ya dibawah banget\n",
      "begitulah hidup, kalo ga di bawah, ya dibawah banget\n",
      "begitulah hidup, kalo ga di bawah, ya dibawah banget\n",
      "begitulah hidup, kalo ga di bawah, ya dibawah banget\n",
      "begitulah hidup, kalo ga di bawah, ya dibawah banget\n",
      "begitulah hidup, kalo ga di bawah, ya dibawah banget\n",
      "begitulah hidup, kalo ga di bawah, ya dibawah banget\n",
      "begitulah hidup, kalo ga di bawah, ya dibawah banget\n"
     ]
    }
   ],
   "source": [
    "#menentukan banyak pengulangan\n",
    "n = 23\n",
    "\n",
    "#melakukan pengulangan\n",
    "i = 11\n",
    "\n",
    "while i <= n :\n",
    "    print (\"begitulah hidup, kalo ga di bawah, ya dibawah banget\")\n",
    "    #diisi motto kalian\n",
    "    i = i + 1 # sesuaikan dengan atas agar fungsi perulangan dapat berhenti\n"
   ]
  },
  {
   "cell_type": "markdown",
   "metadata": {},
   "source": [
    "## Exercise 6.2\n",
    "\n",
    "Buatlah code seperti yang dicontohkan pada modul agar user dapat menginputkan sendiri jumlah n yang diinginkan"
   ]
  },
  {
   "cell_type": "code",
   "execution_count": 8,
   "metadata": {},
   "outputs": [
    {
     "name": "stdout",
     "output_type": "stream",
     "text": [
      "6\n",
      "7\n",
      "8\n",
      "9\n",
      "10\n",
      "11\n",
      "12\n",
      "13\n"
     ]
    }
   ],
   "source": [
    "#Kerjakan disini\n",
    "n = int(input(\"Input nilai n: \"))\n",
    "i = 6\n",
    "while i <= n:\n",
    "    print(i)\n",
    "    i = i + 1"
   ]
  },
  {
   "cell_type": "markdown",
   "metadata": {},
   "source": [
    "## Excercise 6.3\n",
    "\n",
    "isilah xx, yy, dan tanda rumpang seperti pada exercise 6.1\n"
   ]
  },
  {
   "cell_type": "code",
   "execution_count": 10,
   "metadata": {},
   "outputs": [
    {
     "name": "stdout",
     "output_type": "stream",
     "text": [
      "Baris ke-23 : Coco \n",
      "Baris ke-22 : Coco \n",
      "Baris ke-21 : Coco \n",
      "Baris ke-20 : Coco \n",
      "Baris ke-19 : Coco \n",
      "Baris ke-18 : Coco \n",
      "Baris ke-17 : Coco \n",
      "Baris ke-16 : Coco \n",
      "Baris ke-15 : Coco \n",
      "Baris ke-14 : Coco \n",
      "Baris ke-13 : Coco \n",
      "Baris ke-12 : Coco \n",
      "Baris ke-11 : Coco \n"
     ]
    }
   ],
   "source": [
    "#melakukan pengulangan\n",
    "i = 23\n",
    "\n",
    "while i >= 11 :\n",
    "    print (\"Baris ke-%d : Coco \"%i)\n",
    "    #isi titik-titik dengan judul film favorit kalian\n",
    "    i = i - 1 "
   ]
  },
  {
   "cell_type": "markdown",
   "metadata": {},
   "source": [
    "## FOR LOOP\n",
    "\n",
    "## Exercise 6.4\n",
    "\n",
    "munculkan 3 dari 7 elemen yang berada di dalam list1 dan list2\n"
   ]
  },
  {
   "cell_type": "code",
   "execution_count": 11,
   "metadata": {},
   "outputs": [
    {
     "name": "stdout",
     "output_type": "stream",
     "text": [
      "1 ayam geprek Bandung\n",
      "2 pizza Yogyakarta\n",
      "3 burger Surakarta\n"
     ]
    }
   ],
   "source": [
    "list1 = [\"ayam geprek\", \"pizza\", \"burger\", \"magelangan\", \"dimsum\", \"mi ayam\", \"kebab\"] #masukkan 7 list makanan favorit kalian\n",
    "list2 = [\"Bandung\", \"Yogyakarta\", \"Surakarta\", \"Denpasar\", \"Malang\", \"Medan\", \"Palembang\"] #masukkan 7 list kota favorit kalian\n",
    "\n",
    "for i in range(0,3) :\n",
    "    print(i+1, list1[i] , list2[i])"
   ]
  },
  {
   "cell_type": "markdown",
   "metadata": {},
   "source": [
    "## Perulangan Bersarang\n",
    "\n",
    "## Exercise 6.5"
   ]
  },
  {
   "cell_type": "code",
   "execution_count": 12,
   "metadata": {},
   "outputs": [
    {
     "name": "stdout",
     "output_type": "stream",
     "text": [
      "529 \n",
      "506 484 \n",
      "483 462 441 \n",
      "460 440 420 400 \n",
      "437 418 399 380 361 \n",
      "414 396 378 360 342 324 \n",
      "391 374 357 340 323 306 289 \n",
      "368 352 336 320 304 288 272 256 \n",
      "345 330 315 300 285 270 255 240 225 \n",
      "322 308 294 280 266 252 238 224 210 196 \n",
      "299 286 273 260 247 234 221 208 195 182 169 \n",
      "276 264 252 240 228 216 204 192 180 168 156 144 \n",
      "253 242 231 220 209 198 187 176 165 154 143 132 121 \n"
     ]
    }
   ],
   "source": [
    "i = 23\n",
    "while i >= 11:\n",
    "    j = 23\n",
    "    while j>=i:\n",
    "        print(\"%d \" % (i*j), end = '')\n",
    "        j = j - 1\n",
    "    print()\n",
    "    i-=1"
   ]
  },
  {
   "cell_type": "markdown",
   "metadata": {},
   "source": [
    "## Pernyataan Loncat\n",
    "\n",
    "## Exercise 6.\n",
    "\n",
    "Buatlah fungsi berikut agar muncul angka hingga berhenti sesuai dengan nilai qq\n",
    "qq = angka favorit kalian\n",
    "pp>qq"
   ]
  },
  {
   "cell_type": "code",
   "execution_count": 14,
   "metadata": {},
   "outputs": [
    {
     "name": "stdout",
     "output_type": "stream",
     "text": [
      "0123456789101112"
     ]
    }
   ],
   "source": [
    "for i in range(19):\n",
    "    print(i,end='')\n",
    "    if i == 12:\n",
    "        break"
   ]
  },
  {
   "cell_type": "markdown",
   "metadata": {},
   "source": [
    "***\n",
    "<h1 align=\"center\">WELL DONE</h1>\n",
    " \n",
    "***"
   ]
  }
 ],
 "metadata": {
  "interpreter": {
   "hash": "cd08f94adcf3cbae37fe85286256f4c2a10455ca9094fd053e9f3d3f09647223"
  },
  "kernelspec": {
   "display_name": "Python 3.9.7 64-bit",
   "language": "python",
   "name": "python3"
  },
  "language_info": {
   "codemirror_mode": {
    "name": "ipython",
    "version": 3
   },
   "file_extension": ".py",
   "mimetype": "text/x-python",
   "name": "python",
   "nbconvert_exporter": "python",
   "pygments_lexer": "ipython3",
   "version": "3.9.7"
  },
  "orig_nbformat": 4
 },
 "nbformat": 4,
 "nbformat_minor": 2
}
